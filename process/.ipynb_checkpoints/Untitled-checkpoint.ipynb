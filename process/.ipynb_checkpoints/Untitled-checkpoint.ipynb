{
 "cells": [
  {
   "cell_type": "code",
   "execution_count": 21,
   "id": "ec01010f",
   "metadata": {},
   "outputs": [],
   "source": [
    "from utils import *"
   ]
  },
  {
   "cell_type": "code",
   "execution_count": 42,
   "id": "58207ddb",
   "metadata": {},
   "outputs": [
    {
     "name": "stdout",
     "output_type": "stream",
     "text": [
      "id, dataset_id, url_api, progress, score\n"
     ]
    }
   ],
   "source": [
    "config = {\n",
    "        \"tableName\": \"Jobs\",\n",
    "        \"columns\": ['id', 'dataset_id', 'url_api', 'progress', 'score']\n",
    "    }\n",
    "\n",
    "def check_key(dct, key):\n",
    "    if key in dct:\n",
    "        return dct[key]\n",
    "    return None\n",
    "\n",
    "def parseQuery(**config) -> str:\n",
    "    table_name = check_key(config, 'table_name')\n",
    "    columns = check_key(config, 'columns')\n",
    "    conditions = check_key(config, 'conditions')\n",
    "\n",
    "    insert_flag = check_key(config, 'insert_flag')\n",
    "    update_flag = check_key(config, 'update_flag')\n",
    "    join_flag = check_key(config, 'join_flag')\n",
    "\n",
    "    tableJoin = check_key(config, 'tableJoin')\n",
    "    idJoin = check_key(config, 'idJoin')\n",
    "\n",
    "    _columns = list2str(columns)\n",
    "    print(_columns)\n",
    "\n",
    "\n",
    "def parQuery(**config):\n",
    "    parseQuery(**config)\n",
    "    \n",
    "parQuery(**config)\n",
    "parQuery(table_name=\"Jobs\", columns=config['columns'])"
   ]
  },
  {
   "cell_type": "code",
   "execution_count": 27,
   "id": "adc7981c",
   "metadata": {},
   "outputs": [
    {
     "data": {
      "text/plain": [
       "'Jobs'"
      ]
     },
     "execution_count": 27,
     "metadata": {},
     "output_type": "execute_result"
    }
   ],
   "source": [
    "key = \"tableName\"\n",
    "config[key]"
   ]
  },
  {
   "cell_type": "code",
   "execution_count": null,
   "id": "3a586160",
   "metadata": {},
   "outputs": [],
   "source": []
  }
 ],
 "metadata": {
  "kernelspec": {
   "display_name": "Python 3 (ipykernel)",
   "language": "python",
   "name": "python3"
  },
  "language_info": {
   "codemirror_mode": {
    "name": "ipython",
    "version": 3
   },
   "file_extension": ".py",
   "mimetype": "text/x-python",
   "name": "python",
   "nbconvert_exporter": "python",
   "pygments_lexer": "ipython3",
   "version": "3.8.10"
  }
 },
 "nbformat": 4,
 "nbformat_minor": 5
}
