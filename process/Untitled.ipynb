{
 "cells": [
  {
   "cell_type": "code",
   "execution_count": 21,
   "id": "ec01010f",
   "metadata": {},
   "outputs": [],
   "source": [
    "from utils import *"
   ]
  },
  {
   "cell_type": "code",
   "execution_count": 42,
   "id": "58207ddb",
   "metadata": {},
   "outputs": [
    {
     "name": "stdout",
     "output_type": "stream",
     "text": [
      "id, dataset_id, url_api, progress, score\n"
     ]
    }
   ],
   "source": [
    "config = {\n",
    "        \"tableName\": \"Jobs\",\n",
    "        \"columns\": ['id', 'dataset_id', 'url_api', 'progress', 'score']\n",
    "    }\n",
    "\n",
    "def check_key(dct, key):\n",
    "    if key in dct:\n",
    "        return dct[key]\n",
    "    return None\n",
    "\n",
    "def parseQuery(**config) -> str:\n",
    "    table_name = check_key(config, 'table_name')\n",
    "    columns = check_key(config, 'columns')\n",
    "    conditions = check_key(config, 'conditions')\n",
    "\n",
    "    insert_flag = check_key(config, 'insert_flag')\n",
    "    update_flag = check_key(config, 'update_flag')\n",
    "    join_flag = check_key(config, 'join_flag')\n",
    "\n",
    "    tableJoin = check_key(config, 'tableJoin')\n",
    "    idJoin = check_key(config, 'idJoin')\n",
    "\n",
    "    _columns = list2str(columns)\n",
    "    print(_columns)\n",
    "\n",
    "\n",
    "def parQuery(**config):\n",
    "    parseQuery(**config)\n",
    "    \n",
    "parQuery(**config)\n",
    "parQuery(table_name=\"Jobs\", columns=config['columns'])"
   ]
  },
  {
   "cell_type": "code",
   "execution_count": 27,
   "id": "adc7981c",
   "metadata": {},
   "outputs": [
    {
     "data": {
      "text/plain": [
       "'Jobs'"
      ]
     },
     "execution_count": 27,
     "metadata": {},
     "output_type": "execute_result"
    }
   ],
   "source": [
    "key = \"tableName\"\n",
    "config[key]"
   ]
  },
  {
   "cell_type": "code",
   "execution_count": 1,
   "id": "3a586160",
   "metadata": {},
   "outputs": [],
   "source": [
    "sql = f\"\"\"\n",
    "    SELECT url_image, label, predict\n",
    "    FROM \"ResultItems\"\n",
    "        JOIN \"DatasetItems\" ON \"DatasetItems\".\"id\"=\"ResultItems\".\"datasetItem_id\"\n",
    "    WHERE \"ResultItems\".\"job_id\"=20\n",
    "    ;\n",
    "\"\"\""
   ]
  },
  {
   "cell_type": "code",
   "execution_count": 25,
   "id": "46b69c91",
   "metadata": {},
   "outputs": [
    {
     "name": "stdout",
     "output_type": "stream",
     "text": [
      "['url_image', 'label', 'predict']\n"
     ]
    }
   ],
   "source": [
    "a = []\n",
    "s = False\n",
    "qList = sql.split()\n",
    "for i, q in enumerate(qList):\n",
    "    if q.upper() == 'SELECT':\n",
    "        s = True\n",
    "        continue\n",
    "    if q.upper() in ['FROM']:\n",
    "        s = False\n",
    "    if s == True:\n",
    "        q = q if not q[-1] == ',' else q[:-1]\n",
    "        a.append(q)\n",
    "print(a)"
   ]
  },
  {
   "cell_type": "code",
   "execution_count": 3,
   "id": "a85d0712",
   "metadata": {},
   "outputs": [
    {
     "data": {
      "text/plain": [
       "'{\"confusion_matrix\": array([[0, 1], [0, 2]]), \"classification_report\": {\"0\": {\"precision\": 0.0, \"recall\": 0.0, \"f1-score\": 0.0, \"support\": 1}, \"16\": {\"precision\": 0.6666666666666666, \"recall\": 1.0, \"f1-score\": 0.8, \"support\": 2}, \"accuracy\": 0.6666666666666666, \"macro avg\": {\"precision\": 0.3333333333333333, \"recall\": 0.5, \"f1-score\": 0.4, \"support\": 3}, \"weighted avg\": {\"precision\": 0.4444444444444444, \"recall\": 0.6666666666666666, \"f1-score\": 0.5333333333333333, \"support\": 3}}}'"
      ]
     },
     "execution_count": 3,
     "metadata": {},
     "output_type": "execute_result"
    }
   ],
   "source": [
    "a =  \"{'confusion_matrix': array([[0, 1], [0, 2]]), 'classification_report': {'0': {'precision': 0.0, 'recall': 0.0, 'f1-score': 0.0, 'support': 1}, '16': {'precision': 0.6666666666666666, 'recall': 1.0, 'f1-score': 0.8, 'support': 2}, 'accuracy': 0.6666666666666666, 'macro avg': {'precision': 0.3333333333333333, 'recall': 0.5, 'f1-score': 0.4, 'support': 3}, 'weighted avg': {'precision': 0.4444444444444444, 'recall': 0.6666666666666666, 'f1-score': 0.5333333333333333, 'support': 3}}}\"\n",
    "a.replace(\"'\", '\"')"
   ]
  },
  {
   "cell_type": "code",
   "execution_count": null,
   "id": "5dbdac76",
   "metadata": {},
   "outputs": [],
   "source": []
  }
 ],
 "metadata": {
  "kernelspec": {
   "display_name": "Python 3 (ipykernel)",
   "language": "python",
   "name": "python3"
  },
  "language_info": {
   "codemirror_mode": {
    "name": "ipython",
    "version": 3
   },
   "file_extension": ".py",
   "mimetype": "text/x-python",
   "name": "python",
   "nbconvert_exporter": "python",
   "pygments_lexer": "ipython3",
   "version": "3.8.10"
  }
 },
 "nbformat": 4,
 "nbformat_minor": 5
}
